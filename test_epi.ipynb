{
 "cells": [
  {
   "cell_type": "code",
   "execution_count": 6,
   "metadata": {},
   "outputs": [],
   "source": [
    "import adapters\n",
    "from transformers import AutoModel, AutoTokenizer\n",
    "from adapters import PrefixTuningConfig\n",
    "\n",
    "\n",
    "# Load pre-trained model and tokenizer\n",
    "model = AutoModel.from_pretrained(\"bert-base-uncased\")\n",
    "tokenizer = AutoTokenizer.from_pretrained(\"bert-base-uncased\")\n",
    "adapters.init(model) # prepare model for use with adapters\n",
    "\n",
    "\n",
    "config = PrefixTuningConfig(flat=False, prefix_length=30)\n",
    "model.add_adapter(\"prefix_tuning\", config=config)\n",
    "\n",
    "\n",
    "model.delele_all_adapters()\n",
    "\n",
    "print(model.active_adapters)\n"
   ]
  },
  {
   "cell_type": "code",
   "execution_count": 3,
   "metadata": {},
   "outputs": [],
   "source": [
    "model.save_adapter(\"ngoc\", \"prefix_tuning\")"
   ]
  },
  {
   "cell_type": "code",
   "execution_count": 8,
   "metadata": {},
   "outputs": [
    {
     "name": "stdout",
     "output_type": "stream",
     "text": [
      "Mean embedding: (768,)\n",
      "Covariance matrix: (768, 768)\n"
     ]
    }
   ],
   "source": [
    "import torch\n",
    "from transformers import BertModel, BertTokenizer\n",
    "import numpy as np\n",
    "\n",
    "# Khởi tạo mô hình và tokenizer\n",
    "model_name = 'bert-base-uncased'\n",
    "tokenizer = BertTokenizer.from_pretrained(model_name)\n",
    "model = BertModel.from_pretrained(model_name)\n",
    "\n",
    "# Dữ liệu đầu vào\n",
    "sentences = [\"Hello, how are you?\", \"I am fine, thank you!\"]\n",
    "\n",
    "# Tokenize dữ liệu\n",
    "inputs = tokenizer(sentences, return_tensors=\"pt\", padding=True, truncation=True)\n",
    "\n",
    "# Forward dữ liệu qua mô hình\n",
    "with torch.no_grad():\n",
    "    outputs = model(**inputs)\n",
    "\n",
    "# Lấy embedding của token `[CLS]`\n",
    "cls_embeddings = outputs.last_hidden_state[:, 0, :]\n",
    "\n",
    "# Tính mean của embedding\n",
    "mean_embedding = torch.mean(cls_embeddings, dim=0)\n",
    "\n",
    "# Tính covariance của embedding\n",
    "covariance = torch.matmul(cls_embeddings.T, cls_embeddings) / cls_embeddings.shape[0]\n",
    "\n",
    "# Chuyển tensor sang numpy array để hiển thị\n",
    "mean_embedding_np = mean_embedding.numpy()\n",
    "covariance_np = covariance.numpy()\n",
    "\n",
    "print(\"Mean embedding:\", mean_embedding_np.shape)\n",
    "print(\"Covariance matrix:\", covariance_np.shape)\n"
   ]
  }
 ],
 "metadata": {
  "kernelspec": {
   "display_name": "ngoclt",
   "language": "python",
   "name": "python3"
  },
  "language_info": {
   "codemirror_mode": {
    "name": "ipython",
    "version": 3
   },
   "file_extension": ".py",
   "mimetype": "text/x-python",
   "name": "python",
   "nbconvert_exporter": "python",
   "pygments_lexer": "ipython3",
   "version": "3.10.14"
  }
 },
 "nbformat": 4,
 "nbformat_minor": 2
}
